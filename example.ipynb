{
 "cells": [
  {
   "cell_type": "markdown",
   "metadata": {},
   "source": [
    "# VulnCheck SDK for Python\n",
    "\n",
    "Let's see how we can explore VulnCheck data using the official python client in a Jupyter notebook!\n",
    "\n",
    "First let's install some dependencies...\n"
   ]
  },
  {
   "cell_type": "code",
   "execution_count": null,
   "metadata": {},
   "outputs": [],
   "source": [
    "%pip install vulncheck-sdk matplotlib pandas"
   ]
  },
  {
   "cell_type": "markdown",
   "metadata": {},
   "source": [
    "Great! Now let's take a look at some botnet data. First, we'll query the `botnet` index using the API, and create a dataframes object with our data."
   ]
  },
  {
   "cell_type": "code",
   "execution_count": 8,
   "metadata": {},
   "outputs": [],
   "source": [
    "import vulncheck_sdk\n",
    "import matplotlib.pyplot as plt\n",
    "import pandas as pd\n",
    "\n",
    "DEFAULT_HOST = \"https://api.vulncheck.com\"\n",
    "DEFAULT_API = DEFAULT_HOST + \"/v3\"\n",
    "TOKEN = \"insert_token_here\"  # Replace with your actual API token\n",
    "\n",
    "configuration = vulncheck_sdk.Configuration(host=DEFAULT_API)\n",
    "configuration.api_key[\"Bearer\"] = TOKEN\n",
    "\n",
    "with vulncheck_sdk.ApiClient(configuration) as api_client:\n",
    "    indices_client = vulncheck_sdk.IndicesApi(api_client)\n",
    "\n",
    "    body = vulncheck_sdk.ParamsIdxReqParams()\n",
    "\n",
    "    api_response = indices_client.index_botnets_get(body)\n",
    "\n",
    "    botnet_names = []\n",
    "    cve_count = []\n",
    "\n",
    "    for entry in api_response.data:\n",
    "\n",
    "        # For this example, let's check out each botnet and the number\n",
    "        # of unique CVEs associated with it.\n",
    "        botnet_names.append(entry.botnet_name)\n",
    "        cve_count.append(len(entry.cve))\n",
    "\n",
    "df = pd.DataFrame({\n",
    "    'Botnets': botnet_names,\n",
    "    'Unique CVEs': cve_count\n",
    "})"
   ]
  },
  {
   "cell_type": "markdown",
   "metadata": {},
   "source": [
    "Now let's make a bar chart of unique CVE's for each botnet!"
   ]
  },
  {
   "cell_type": "code",
   "execution_count": 10,
   "metadata": {},
   "outputs": [],
   "source": [
    "df_sorted = df.sort_values(by='Unique CVEs', ascending=False)\n",
    "plt.figure(figsize=(10, 6))\n",
    "\n",
    "plt.bar(df_sorted['Botnets'], df_sorted['Unique CVEs'])\n",
    "\n",
    "plt.title(\"Unique CVEs per Botnet\")\n",
    "plt.xlabel(\"Botnets\")\n",
    "plt.ylabel(\"Unique CVEs\")\n",
    "\n",
    "plt.xticks(rotation=60, ha='right', fontsize=7, fontweight='bold')\n",
    "\n",
    "plt.tight_layout()\n",
    "plt.show()"
   ]
  }
 ],
 "metadata": {
  "kernelspec": {
   "display_name": "Python 3",
   "language": "python",
   "name": "python3"
  },
  "language_info": {
   "codemirror_mode": {
    "name": "ipython",
    "version": 3
   },
   "file_extension": ".py",
   "mimetype": "text/x-python",
   "name": "python",
   "nbconvert_exporter": "python",
   "pygments_lexer": "ipython3",
   "version": "3.12.5"
  }
 },
 "nbformat": 4,
 "nbformat_minor": 2
}
